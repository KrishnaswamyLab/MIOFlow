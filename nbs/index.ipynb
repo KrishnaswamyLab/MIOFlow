{
 "cells": [
  {
   "cell_type": "raw",
   "metadata": {},
   "source": [
    "---\n",
    "description: Manifold Interpolating Optimal-Transport Flows for Trajectory Inference\n",
    "output-file: index.html\n",
    "title: MIOFlow\n",
    "\n",
    "---\n",
    "\n"
   ]
  },
  {
   "attachments": {},
   "cell_type": "markdown",
   "metadata": {},
   "source": [
    "## Setup\n",
    "\n",
    "Create conda environment\n",
    "```bash\n",
    "$ conda create -n mioflow python=3.10\n",
    "$ conda activate mioflow\n",
    "```\n",
    "install pytorch according to instructions\n",
    "https://pytorch.org/get-started/\n",
    "\n",
    "we used \n",
    "```bash\n",
    "$ conda install pytorch pytorch-cuda=11.6 -c pytorch -c nvidia\n",
    "```\n",
    "install requirements and MIOFlow\n",
    "```bash\n",
    "$ pip install -e .\n",
    "```\n",
    "Remove unused packages and caches.\n",
    "```bash\n",
    "$ conda clean --all\n",
    "```\n",
    "\n",
    "Install MIOFlow for developers and internal use:\n",
    "```bash\n",
    "$ cd path/to/this/repository\n",
    "$ pip install -e MIOFlow\n",
    "```\n",
    "\n",
    "### Add kernel to Jupyter Notebook\n",
    "\n",
    "#### automatic conda kernels\n",
    "For greater detail see the official docs for [`nb_conda_kernels`][nb_conda_kernels].\n",
    "In short, install `nb_conda_kernels` in the environment from which you launch JupyterLab / Jupyter Notebooks from (e.g. `base`) via:\n",
    "\n",
    "```bash\n",
    "$ conda install -n <notebook_env> nb_conda_kernels\n",
    "```\n",
    "\n",
    "to add a new or exist conda environment to Jupyter simply install `ipykernel` into that conda environment e.g.\n",
    "\n",
    "```bash\n",
    "$ conda install -n <python_env> ipykernel\n",
    "```\n",
    "\n",
    "\n",
    "#### manual ipykernel\n",
    "add to your Jupyter Notebook kernels via\n",
    "\n",
    "```bash\n",
    "$ python -m ipykernel install --user --name sklab-mioflow\n",
    "```\n",
    "\n",
    "It can be removed via:\n",
    "\n",
    "```bash\n",
    "$ jupyter kernelspec uninstall sklab-mioflow\n",
    "```\n",
    "\n",
    "#### list kernels found by Jupyter\n",
    "\n",
    "kernels recognized by conda\n",
    "```bash\n",
    "$ python -m nb_conda_kernels list\n",
    "```\n",
    "\n",
    "check which kernels are discovered by Jupyter:\n",
    "```bash\n",
    "$ jupyter kernelspec list\n",
    "```\n",
    "\n",
    "[nb_conda_kernels]: https://github.com/Anaconda-Platform/nb_conda_kernels"
   ]
  },
  {
   "cell_type": "markdown",
   "metadata": {},
   "source": [
    "## How to use"
   ]
  },
  {
   "cell_type": "markdown",
   "metadata": {},
   "source": [
    "This repository consists of our python library `MIOFlow` as well as a directory of scripts for running and using it. "
   ]
  },
  {
   "cell_type": "markdown",
   "metadata": {},
   "source": [
    "### Scripts"
   ]
  },
  {
   "cell_type": "markdown",
   "metadata": {},
   "source": [
    "To recreate our results with MMD loss and density regulariazation you can run the following command:\n",
    "\n",
    "```bash\n",
    "python scripts/run.py -d petals -c mmd -n petal-mmd\n",
    "```\n",
    "\n",
    "This will generate the directory `results/petals-mmd` and save everything there.\n",
    "\n",
    "For a full list of parameters try running:\n",
    "\n",
    "```bash\n",
    "python scripts/run.py --help\n",
    "```"
   ]
  },
  {
   "cell_type": "markdown",
   "metadata": {},
   "source": [
    "### Python Package\n",
    "One could simply import everything and use it piecemeal:"
   ]
  },
  {
   "cell_type": "code",
   "execution_count": null,
   "metadata": {},
   "outputs": [],
   "source": [
    "from MIOFlow.ode import *\n",
    "from MIOFlow.losses import *\n",
    "from MIOFlow.utils import *\n",
    "from MIOFlow.models import *\n",
    "from MIOFlow.plots import *\n",
    "from MIOFlow.train import *\n",
    "from MIOFlow.constants import *\n",
    "from MIOFlow.datasets import *\n",
    "from MIOFlow.exp import *\n",
    "from MIOFlow.geo import *\n",
    "from MIOFlow.eval import *"
   ]
  },
  {
   "cell_type": "markdown",
   "metadata": {},
   "source": [
    "### Tutorials\n",
    "One can also consult or modify the tutorial notebooks for their uses:\n",
    "- [EB Bodies tutorial][ebbodies]\n",
    "- [Dyngen tutorial][dyngen]\n",
    "- [Petals tutorial][petals]\n",
    "\n",
    "[ebbodies]: https://github.com/KrishnaswamyLab/MIOFlow/blob/main/notebooks/%5BTutorial%5D%20EB-Hold-out.ipynb\n",
    "[dyngen]: https://github.com/KrishnaswamyLab/MIOFlow/blob/main/notebooks/%5BTutorial%5D%20Dyngen.ipynb\n",
    "[petals]: https://github.com/KrishnaswamyLab/MIOFlow/blob/main/notebooks/%5BTutorial%5D%20Petal.ipynb"
   ]
  },
  {
   "cell_type": "markdown",
   "metadata": {},
   "source": []
  }
 ],
 "metadata": {
  "kernelspec": {
   "display_name": "python3",
   "language": "python",
   "name": "python3"
  }
 },
 "nbformat": 4,
 "nbformat_minor": 2
}
