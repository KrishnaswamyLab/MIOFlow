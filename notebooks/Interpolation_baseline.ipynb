{
 "cells": [
  {
   "cell_type": "code",
   "execution_count": null,
   "metadata": {},
   "outputs": [],
   "source": [
    "import time\n",
    "import numpy as np\n",
    "import ot\n",
    "import ot.plot\n",
    "import matplotlib.pyplot as plt\n",
    "from MIOFlow.datasets import (\n",
    "    make_diamonds, make_swiss_roll, make_tree, make_eb_data, \n",
    "    make_dyngen_data\n",
    ")\n",
    "from MIOFlow.utils import sample"
   ]
  },
  {
   "cell_type": "code",
   "execution_count": null,
   "metadata": {},
   "outputs": [],
   "source": [
    "df_petal = make_diamonds()\n",
    "df_dyngen = make_dyngen_data(phate_dims=5)"
   ]
  },
  {
   "cell_type": "code",
   "execution_count": null,
   "metadata": {},
   "outputs": [],
   "source": [
    "def interpolate(df, time:list, sample_size:float, alpha:float):\n",
    "  xs = sample(df, time[0], size=sample_size, replace=False, to_torch=False, use_cuda=False)\n",
    "  xt = sample(df, time[1], size=sample_size, replace=False, to_torch=False, use_cuda=False)\n",
    "  M = ot.dist(xs, xt)\n",
    "  a = ot.unif(xs.shape[0])\n",
    "  b = ot.unif(xt.shape[0])\n",
    "  T = ot.emd(a, b, M)\n",
    "  mx = T.max()\n",
    "  xi = []\n",
    "  test_bijection = []\n",
    "  for i in range(xs.shape[0]):\n",
    "    bij=0\n",
    "    for j in range(xt.shape[0]):\n",
    "      if T[i,j] / mx > 0.9:\n",
    "        bij = 1 + bij\n",
    "        xi.append(alpha*xs[i] + (1-alpha)*xt[j])\n",
    "        test_bijection.append(bij)\n",
    "  return {'xi': np.array(xi), 'xs': xs, 'xt':xt}, test_bijection"
   ]
  },
  {
   "cell_type": "code",
   "execution_count": null,
   "metadata": {},
   "outputs": [],
   "source": [
    "sample_size_petal = 140\n",
    "sample_size_dyngen = 63"
   ]
  },
  {
   "cell_type": "code",
   "execution_count": null,
   "metadata": {},
   "outputs": [],
   "source": [
    "groups = sorted(df_petal.samples.unique())\n",
    "petal_interpolation = {}\n",
    "for step in zip(groups[:],groups[2:]):\n",
    "    start_time = time.time()\n",
    "    time_inter = (step[0] + step[1])/2.0\n",
    "    dt, bij = interpolate(df_petal, step, sample_size = sample_size_petal, alpha=0.5)\n",
    "    petal_interpolation['inter_time_'+str(int(time_inter))] = dt['xi']\n",
    "    run_time = time.time() - start_time\n",
    "    print(run_time)"
   ]
  },
  {
   "cell_type": "code",
   "execution_count": null,
   "metadata": {},
   "outputs": [],
   "source": [
    "petal_interpolation\n",
    "np.save('petal_interpolation.npy',petal_interpolation)"
   ]
  },
  {
   "cell_type": "code",
   "execution_count": null,
   "metadata": {},
   "outputs": [],
   "source": [
    "groups = sorted(df_dyngen.samples.unique())\n",
    "dyngen_interpolation = {}\n",
    "for step in zip(groups[:],groups[2:]):\n",
    "    start_time = time.time()\n",
    "    time_inter = (step[0] + step[1])/2.0\n",
    "    dt, bij = interpolate(df_dyngen, step, sample_size = sample_size_dyngen, alpha=0.5)\n",
    "    dyngen_interpolation['inter_time_'+str(int(time_inter))] = dt['xi']\n",
    "    run_time = time.time() - start_time\n",
    "    print(run_time)"
   ]
  },
  {
   "cell_type": "code",
   "execution_count": null,
   "metadata": {},
   "outputs": [],
   "source": [
    "np.save('dyngen_interpolation.npy',dyngen_interpolation)"
   ]
  },
  {
   "cell_type": "code",
   "execution_count": null,
   "metadata": {},
   "outputs": [],
   "source": [
    "fig = plt.figure()\n",
    "ax1 = fig.add_subplot(111)\n",
    "ax1.scatter(dyngen_interpolation['inter_time_2'][:,0],dyngen_interpolation['inter_time_2'][:,1])\n",
    "ax1.scatter(dyngen_interpolation['inter_time_3'][:,0],dyngen_interpolation['inter_time_3'][:,1])\n",
    "ax1.scatter(dyngen_interpolation['inter_time_4'][:,0],dyngen_interpolation['inter_time_4'][:,1])\n",
    "plt.show()"
   ]
  }
 ],
 "metadata": {
  "kernelspec": {
   "display_name": "Python 3.6.15 64-bit ('sklab-toy-tjnet')",
   "language": "python",
   "name": "python3"
  }
 },
 "nbformat": 4,
 "nbformat_minor": 2
}
