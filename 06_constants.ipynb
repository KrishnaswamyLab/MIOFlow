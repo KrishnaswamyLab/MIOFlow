{
 "cells": [
  {
   "cell_type": "code",
   "execution_count": null,
   "metadata": {},
   "outputs": [],
   "source": [
    "# default_exp constants\n",
    "%load_ext autoreload\n",
    "%autoreload 2"
   ]
  },
  {
   "cell_type": "markdown",
   "metadata": {},
   "source": [
    "# Constants\n",
    "> Includes `ROOT_DIR`, `DATA_DIR`, `NTBK_DIR`, and `IMGS_DIR`. `ROOT_DIR` is the location of this repository. The rest are scoped underneath and are default locations for data, notebooks, and images respectively."
   ]
  },
  {
   "cell_type": "code",
   "execution_count": null,
   "metadata": {},
   "outputs": [],
   "source": [
    "#hide\n",
    "from nbdev.showdoc import *"
   ]
  },
  {
   "cell_type": "code",
   "execution_count": null,
   "metadata": {},
   "outputs": [],
   "source": [
    "#export\n",
    "import os, inspect\n",
    "__file = inspect.getfile(lambda: None)\n",
    "ROOT_DIR = os.path.abspath(os.path.join(os.path.dirname(__file), '..'))\n",
    "DATA_DIR = os.path.join(ROOT_DIR, 'data')\n",
    "NTBK_DIR = os.path.join(ROOT_DIR, 'notebooks')\n",
    "IMGS_DIR = os.path.join(ROOT_DIR, 'imgs')\n",
    "RES_DIR = os.path.join(ROOT_DIR, 'results')\n",
    "WORM_FILE = os.path.join(DATA_DIR, 'worm_TrNet2.npz')\n",
    "EB_BODIES_FILE = os.path.join(DATA_DIR, 'natalia_eb_rna_smoothed.npz')\n",
    "EB_BODIES_PSEUDO_4 = os.path.join(DATA_DIR, 'pseudotime-4x.npy')\n",
    "EB_BODIES_PSEUDO_6 = os.path.join(DATA_DIR, 'pseudotime-6x.npy')\n",
    "EB_BODIES_PSEUDO_25 = os.path.join(DATA_DIR, 'pseudotime-25x.npy')\n",
    "EB_BODIES_PSEUDO_82 = os.path.join(DATA_DIR, 'pseudotime-82x.npy')\n",
    "\n",
    "DYNGEN_INFO_FILE = os.path.join(DATA_DIR, 'cell_info.csv')\n",
    "DYNGEN_EXPR_FILE = os.path.join(DATA_DIR, 'dyngen_expression_bif.csv')"
   ]
  },
  {
   "cell_type": "code",
   "execution_count": null,
   "metadata": {},
   "outputs": [],
   "source": []
  }
 ],
 "metadata": {
  "kernelspec": {
   "display_name": "",
   "name": ""
  }
 },
 "nbformat": 4,
 "nbformat_minor": 4
}
