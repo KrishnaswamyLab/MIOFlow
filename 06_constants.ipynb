{
 "cells": [
  {
   "cell_type": "raw",
   "metadata": {},
   "source": [
    "---\n",
    "description: Includes `ROOT_DIR`, `DATA_DIR`, `NTBK_DIR`, and `IMGS_DIR`. `ROOT_DIR`\n",
    "  is the location of this repository. The rest are scoped underneath and are default\n",
    "  locations for data, notebooks, and images respectively.\n",
    "output-file: constants.html\n",
    "title: Constants\n",
    "\n",
    "---\n",
    "\n"
   ]
  },
  {
   "cell_type": "code",
   "execution_count": 1,
   "metadata": {},
   "outputs": [],
   "source": [
    "#| default_exp constants\n",
    "%load_ext autoreload\n",
    "%autoreload 2"
   ]
  },
  {
   "cell_type": "code",
   "execution_count": 2,
   "metadata": {},
   "outputs": [],
   "source": [
    "#| include: false\n",
    "from nbdev.showdoc import *"
   ]
  },
  {
   "cell_type": "code",
   "execution_count": 3,
   "metadata": {},
   "outputs": [],
   "source": [
    "#| export\n",
    "import os, inspect\n",
    "__file = inspect.getfile(lambda: None)\n",
    "ROOT_DIR = os.path.abspath(os.path.join(os.path.dirname(__file), '..'))\n",
    "DATA_DIR = os.path.join(ROOT_DIR, 'data')\n",
    "NTBK_DIR = os.path.join(ROOT_DIR, 'notebooks')\n",
    "IMGS_DIR = os.path.join(ROOT_DIR, 'imgs')\n",
    "RES_DIR = os.path.join(ROOT_DIR, 'results')\n",
    "WORM_FILE = os.path.join(DATA_DIR, 'worm_TrNet2.npz')\n",
    "EB_BODIES_FILE = os.path.join(DATA_DIR, 'natalia_eb_rna_smoothed.npz')\n",
    "EB_BODIES_PSEUDO_4 = os.path.join(DATA_DIR, 'pseudotime-4x.npy')\n",
    "EB_BODIES_PSEUDO_6 = os.path.join(DATA_DIR, 'pseudotime-6x.npy')\n",
    "EB_BODIES_PSEUDO_25 = os.path.join(DATA_DIR, 'pseudotime-25x.npy')\n",
    "EB_BODIES_PSEUDO_82 = os.path.join(DATA_DIR, 'pseudotime-82x.npy')\n",
    "\n",
    "DYNGEN_INFO_FILE = os.path.join(DATA_DIR, 'cell_info.csv')\n",
    "DYNGEN_EXPR_FILE = os.path.join(DATA_DIR, 'dyngen_expression_bif.csv')"
   ]
  },
  {
   "cell_type": "code",
   "execution_count": null,
   "metadata": {},
   "outputs": [],
   "source": []
  }
 ],
 "metadata": {
  "kernelspec": {
   "display_name": "Python 3.8.13 ('mioflow2')",
   "language": "python",
   "name": "python3"
  },
  "language_info": {
   "codemirror_mode": {
    "name": "ipython",
    "version": 3
   },
   "file_extension": ".py",
   "mimetype": "text/x-python",
   "name": "python",
   "nbconvert_exporter": "python",
   "pygments_lexer": "ipython3",
   "version": "3.8.13"
  },
  "vscode": {
   "interpreter": {
    "hash": "40baa4e174b872c7c7c4394bf91163c8d2cb7e3cdbfc38681f7e6029f842044e"
   }
  }
 },
 "nbformat": 4,
 "nbformat_minor": 4
}
