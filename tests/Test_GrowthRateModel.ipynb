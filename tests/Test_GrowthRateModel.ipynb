{
 "cells": [
  {
   "cell_type": "code",
   "execution_count": 1,
   "metadata": {},
   "outputs": [],
   "source": [
    "from MIOFlow.models import make_model\n",
    "import torch"
   ]
  },
  {
   "cell_type": "code",
   "execution_count": 2,
   "metadata": {},
   "outputs": [],
   "source": [
    "batch_size = 32\n",
    "feature_dim = 10\n",
    "output_dim = 10\n",
    "\n",
    "x = torch.randn(batch_size, feature_dim)\n",
    "# m0 = torch.ones(batch_size, 1)\n",
    "# xm = torch.cat([x, m0], dim=1)\n",
    "t = torch.linspace(0, 1, 17)\n",
    "\n",
    "model = make_model(feature_dims=feature_dim, output_dims=output_dim, which='ode_growth_rate')"
   ]
  },
  {
   "cell_type": "code",
   "execution_count": 3,
   "metadata": {},
   "outputs": [],
   "source": [
    "xt, mt = model(x, t)"
   ]
  },
  {
   "cell_type": "code",
   "execution_count": 4,
   "metadata": {},
   "outputs": [
    {
     "data": {
      "text/plain": [
       "(torch.Size([32, 10]), torch.Size([32]))"
      ]
     },
     "execution_count": 4,
     "metadata": {},
     "output_type": "execute_result"
    }
   ],
   "source": [
    "xt.shape, mt.shape"
   ]
  },
  {
   "cell_type": "code",
   "execution_count": 5,
   "metadata": {},
   "outputs": [],
   "source": [
    "xtseq, mtseq = model(x, t, return_whole_sequence=True)"
   ]
  },
  {
   "cell_type": "code",
   "execution_count": 6,
   "metadata": {},
   "outputs": [
    {
     "data": {
      "text/plain": [
       "torch.Size([17, 32, 10])"
      ]
     },
     "execution_count": 6,
     "metadata": {},
     "output_type": "execute_result"
    }
   ],
   "source": [
    "xtseq.shape"
   ]
  },
  {
   "cell_type": "code",
   "execution_count": 7,
   "metadata": {},
   "outputs": [
    {
     "data": {
      "text/plain": [
       "torch.Size([17, 32])"
      ]
     },
     "execution_count": 7,
     "metadata": {},
     "output_type": "execute_result"
    }
   ],
   "source": [
    "mtseq.shape"
   ]
  },
  {
   "cell_type": "code",
   "execution_count": 8,
   "metadata": {},
   "outputs": [
    {
     "data": {
      "text/plain": [
       "tensor([0.9443, 1.0173, 0.7501, 0.5969, 1.0634, 0.7985, 1.0667, 1.3186, 0.9306,\n",
       "        1.1925, 1.0128, 1.3801, 0.9110, 0.8183, 1.1681, 0.9912, 1.1354, 1.1225,\n",
       "        1.2475, 0.7734, 1.0399, 0.7493, 0.8734, 1.1611, 0.9538, 0.7815, 0.9653,\n",
       "        1.1884, 1.0213, 0.9292, 1.0074, 1.0902], grad_fn=<MulBackward0>)"
      ]
     },
     "execution_count": 8,
     "metadata": {},
     "output_type": "execute_result"
    }
   ],
   "source": [
    "torch.nn.functional.softmax(mt, dim=-1) * mt.shape[-1]"
   ]
  },
  {
   "cell_type": "code",
   "execution_count": 9,
   "metadata": {},
   "outputs": [
    {
     "data": {
      "text/plain": [
       "tensor([0.0295, 0.0318, 0.0234, 0.0187, 0.0332, 0.0250, 0.0333, 0.0412, 0.0291,\n",
       "        0.0373, 0.0316, 0.0431, 0.0285, 0.0256, 0.0365, 0.0310, 0.0355, 0.0351,\n",
       "        0.0390, 0.0242, 0.0325, 0.0234, 0.0273, 0.0363, 0.0298, 0.0244, 0.0302,\n",
       "        0.0371, 0.0319, 0.0290, 0.0315, 0.0341], grad_fn=<DivBackward0>)"
      ]
     },
     "execution_count": 9,
     "metadata": {},
     "output_type": "execute_result"
    }
   ],
   "source": [
    "torch.exp(mt)/torch.exp(mt).sum(dim=0)"
   ]
  },
  {
   "cell_type": "code",
   "execution_count": 10,
   "metadata": {},
   "outputs": [
    {
     "data": {
      "text/plain": [
       "tensor([[1.0000, 1.0000, 1.0000, 1.0000, 1.0000, 1.0000, 1.0000, 1.0000, 1.0000,\n",
       "         1.0000, 1.0000, 1.0000, 1.0000, 1.0000, 1.0000, 1.0000, 1.0000, 1.0000,\n",
       "         1.0000, 1.0000, 1.0000, 1.0000, 1.0000, 1.0000, 1.0000, 1.0000, 1.0000,\n",
       "         1.0000, 1.0000, 1.0000, 1.0000, 1.0000],\n",
       "        [0.9943, 1.0019, 0.9835, 0.9709, 1.0050, 0.9877, 1.0044, 1.0180, 0.9963,\n",
       "         1.0132, 1.0026, 1.0214, 0.9941, 0.9887, 1.0112, 0.9984, 1.0074, 1.0069,\n",
       "         1.0149, 0.9871, 1.0027, 0.9836, 0.9919, 1.0141, 0.9986, 0.9865, 1.0007,\n",
       "         1.0101, 1.0015, 0.9941, 1.0016, 1.0068],\n",
       "        [0.9891, 1.0036, 0.9671, 0.9421, 1.0098, 0.9753, 1.0088, 1.0363, 0.9925,\n",
       "         1.0264, 1.0050, 1.0430, 0.9883, 0.9773, 1.0223, 0.9969, 1.0150, 1.0138,\n",
       "         1.0300, 0.9739, 1.0053, 0.9672, 0.9838, 1.0278, 0.9970, 0.9730, 1.0011,\n",
       "         1.0204, 1.0029, 0.9885, 1.0031, 1.0134],\n",
       "        [0.9842, 1.0052, 0.9508, 0.9138, 1.0145, 0.9628, 1.0131, 1.0548, 0.9886,\n",
       "         1.0394, 1.0072, 1.0650, 0.9826, 0.9658, 1.0334, 0.9955, 1.0227, 1.0208,\n",
       "         1.0451, 0.9604, 1.0080, 0.9509, 0.9758, 1.0411, 0.9953, 0.9596, 1.0012,\n",
       "         1.0308, 1.0044, 0.9831, 1.0044, 1.0198],\n",
       "        [0.9796, 1.0065, 0.9346, 0.8859, 1.0190, 0.9502, 1.0173, 1.0735, 0.9847,\n",
       "         1.0523, 1.0092, 1.0872, 0.9768, 0.9544, 1.0443, 0.9941, 1.0306, 1.0278,\n",
       "         1.0603, 0.9467, 1.0107, 0.9347, 0.9678, 1.0541, 0.9932, 0.9463, 1.0009,\n",
       "         1.0415, 1.0060, 0.9781, 1.0056, 1.0261],\n",
       "        [0.9753, 1.0077, 0.9184, 0.8585, 1.0233, 0.9376, 1.0214, 1.0924, 0.9807,\n",
       "         1.0651, 1.0108, 1.1098, 0.9711, 0.9429, 1.0551, 0.9929, 1.0386, 1.0349,\n",
       "         1.0755, 0.9329, 1.0134, 0.9186, 0.9598, 1.0666, 0.9909, 0.9331, 1.0002,\n",
       "         1.0525, 1.0076, 0.9732, 1.0066, 1.0324],\n",
       "        [0.9714, 1.0087, 0.9024, 0.8317, 1.0275, 0.9249, 1.0255, 1.1116, 0.9767,\n",
       "         1.0778, 1.0122, 1.1326, 0.9655, 0.9314, 1.0659, 0.9918, 1.0468, 1.0421,\n",
       "         1.0908, 0.9189, 1.0161, 0.9026, 0.9519, 1.0785, 0.9884, 0.9199, 0.9990,\n",
       "         1.0636, 1.0093, 0.9685, 1.0074, 1.0386],\n",
       "        [0.9678, 1.0097, 0.8865, 0.8055, 1.0315, 0.9121, 1.0295, 1.1309, 0.9726,\n",
       "         1.0904, 1.0132, 1.1558, 0.9599, 0.9199, 1.0765, 0.9910, 1.0551, 1.0493,\n",
       "         1.1060, 0.9048, 1.0188, 0.8867, 0.9440, 1.0900, 0.9858, 0.9067, 0.9974,\n",
       "         1.0750, 1.0110, 0.9639, 1.0082, 1.0446],\n",
       "        [0.9645, 1.0106, 0.8707, 0.7799, 1.0354, 0.8994, 1.0336, 1.1506, 0.9684,\n",
       "         1.1028, 1.0140, 1.1793, 0.9543, 0.9084, 1.0870, 0.9903, 1.0635, 1.0566,\n",
       "         1.1213, 0.8905, 1.0215, 0.8708, 0.9360, 1.1008, 0.9831, 0.8934, 0.9953,\n",
       "         1.0867, 1.0126, 0.9595, 1.0086, 1.0504],\n",
       "        [0.9615, 1.0116, 0.8552, 0.7549, 1.0392, 0.8867, 1.0376, 1.1705, 0.9642,\n",
       "         1.1150, 1.0146, 1.2030, 0.9488, 0.8969, 1.0974, 0.9899, 1.0721, 1.0641,\n",
       "         1.1367, 0.8761, 1.0242, 0.8551, 0.9281, 1.1109, 0.9802, 0.8798, 0.9929,\n",
       "         1.0986, 1.0141, 0.9553, 1.0089, 1.0561],\n",
       "        [0.9587, 1.0126, 0.8398, 0.7306, 1.0429, 0.8739, 1.0416, 1.1906, 0.9598,\n",
       "         1.1270, 1.0149, 1.2272, 0.9434, 0.8854, 1.1077, 0.9896, 1.0808, 1.0717,\n",
       "         1.1521, 0.8616, 1.0269, 0.8395, 0.9202, 1.1202, 0.9771, 0.8661, 0.9900,\n",
       "         1.1108, 1.0156, 0.9512, 1.0090, 1.0616],\n",
       "        [0.9560, 1.0135, 0.8245, 0.7068, 1.0466, 0.8612, 1.0457, 1.2110, 0.9553,\n",
       "         1.1387, 1.0150, 1.2517, 0.9381, 0.8740, 1.1179, 0.9896, 1.0896, 1.0796,\n",
       "         1.1676, 0.8471, 1.0294, 0.8241, 0.9123, 1.1288, 0.9737, 0.8522, 0.9868,\n",
       "         1.1231, 1.0169, 0.9473, 1.0089, 1.0669],\n",
       "        [0.9535, 1.0145, 0.8094, 0.6837, 1.0501, 0.8485, 1.0497, 1.2317, 0.9507,\n",
       "         1.1501, 1.0150, 1.2766, 0.9327, 0.8627, 1.1281, 0.9896, 1.0986, 1.0877,\n",
       "         1.1833, 0.8324, 1.0319, 0.8088, 0.9045, 1.1367, 0.9702, 0.8382, 0.9832,\n",
       "         1.1357, 1.0181, 0.9435, 1.0088, 1.0720],\n",
       "        [0.9511, 1.0153, 0.7944, 0.6612, 1.0536, 0.8358, 1.0539, 1.2528, 0.9459,\n",
       "         1.1612, 1.0147, 1.3019, 0.9273, 0.8515, 1.1382, 0.9898, 1.1077, 1.0961,\n",
       "         1.1991, 0.8178, 1.0341, 0.7937, 0.8966, 1.1438, 0.9664, 0.8241, 0.9792,\n",
       "         1.1485, 1.0191, 0.9398, 1.0084, 1.0769],\n",
       "        [0.9488, 1.0161, 0.7795, 0.6392, 1.0570, 0.8232, 1.0581, 1.2742, 0.9410,\n",
       "         1.1719, 1.0142, 1.3276, 0.9219, 0.8404, 1.1483, 0.9902, 1.1169, 1.1047,\n",
       "         1.2151, 0.8030, 1.0363, 0.7787, 0.8888, 1.1503, 0.9624, 0.8100, 0.9748,\n",
       "         1.1616, 1.0200, 0.9363, 1.0081, 1.0816],\n",
       "        [0.9466, 1.0168, 0.7647, 0.6178, 1.0603, 0.8107, 1.0623, 1.2962, 0.9359,\n",
       "         1.1824, 1.0136, 1.3536, 0.9165, 0.8293, 1.1582, 0.9906, 1.1261, 1.1135,\n",
       "         1.2312, 0.7883, 1.0382, 0.7639, 0.8810, 1.1561, 0.9582, 0.7958, 0.9702,\n",
       "         1.1749, 1.0207, 0.9327, 1.0078, 1.0860],\n",
       "        [0.9443, 1.0173, 0.7501, 0.5969, 1.0634, 0.7985, 1.0667, 1.3186, 0.9306,\n",
       "         1.1925, 1.0128, 1.3801, 0.9110, 0.8183, 1.1681, 0.9912, 1.1354, 1.1225,\n",
       "         1.2475, 0.7734, 1.0399, 0.7493, 0.8734, 1.1611, 0.9538, 0.7815, 0.9653,\n",
       "         1.1884, 1.0213, 0.9292, 1.0074, 1.0902]], grad_fn=<MulBackward0>)"
      ]
     },
     "execution_count": 10,
     "metadata": {},
     "output_type": "execute_result"
    }
   ],
   "source": [
    "torch.nn.functional.softmax(mtseq, dim=-1) * mtseq.shape[-1]"
   ]
  },
  {
   "cell_type": "code",
   "execution_count": 22,
   "metadata": {},
   "outputs": [
    {
     "data": {
      "text/plain": [
       "torch.Size([17, 32, 10])"
      ]
     },
     "execution_count": 22,
     "metadata": {},
     "output_type": "execute_result"
    }
   ],
   "source": [
    "xtseq.shape"
   ]
  },
  {
   "cell_type": "code",
   "execution_count": 26,
   "metadata": {},
   "outputs": [
    {
     "data": {
      "text/plain": [
       "torch.Size([17, 32, 1])"
      ]
     },
     "execution_count": 26,
     "metadata": {},
     "output_type": "execute_result"
    }
   ],
   "source": [
    "mtseq.unsqueeze(2).shape"
   ]
  },
  {
   "cell_type": "code",
   "execution_count": 27,
   "metadata": {},
   "outputs": [
    {
     "data": {
      "text/plain": [
       "torch.Size([17, 32, 11])"
      ]
     },
     "execution_count": 27,
     "metadata": {},
     "output_type": "execute_result"
    }
   ],
   "source": [
    "xmseq = torch.cat([xtseq, mtseq.unsqueeze(2)], dim=-1)\n",
    "xmseq.shape"
   ]
  },
  {
   "cell_type": "code",
   "execution_count": 53,
   "metadata": {},
   "outputs": [],
   "source": [
    "dxdts = torch.stack([model.func(t[i], xmseq[i]) for i in range(len(t))])"
   ]
  },
  {
   "cell_type": "code",
   "execution_count": 55,
   "metadata": {},
   "outputs": [
    {
     "data": {
      "text/plain": [
       "torch.Size([17, 32, 11])"
      ]
     },
     "execution_count": 55,
     "metadata": {},
     "output_type": "execute_result"
    }
   ],
   "source": [
    "dxdts.shape"
   ]
  },
  {
   "cell_type": "code",
   "execution_count": 19,
   "metadata": {},
   "outputs": [
    {
     "data": {
      "text/plain": [
       "torch.Size([32, 1])"
      ]
     },
     "execution_count": 19,
     "metadata": {},
     "output_type": "execute_result"
    }
   ],
   "source": [
    "mt.unsqueeze(1).shape"
   ]
  },
  {
   "cell_type": "code",
   "execution_count": 21,
   "metadata": {},
   "outputs": [
    {
     "data": {
      "text/plain": [
       "ToyODE(\n",
       "  (seq): Sequential(\n",
       "    (0): Linear(in_features=14, out_features=64, bias=True)\n",
       "    (1): ReLU()\n",
       "    (2): Linear(in_features=64, out_features=11, bias=True)\n",
       "  )\n",
       ")"
      ]
     },
     "execution_count": 21,
     "metadata": {},
     "output_type": "execute_result"
    }
   ],
   "source": [
    "model.func"
   ]
  },
  {
   "cell_type": "code",
   "execution_count": 30,
   "metadata": {},
   "outputs": [
    {
     "data": {
      "text/plain": [
       "torch.Size([32, 10])"
      ]
     },
     "execution_count": 30,
     "metadata": {},
     "output_type": "execute_result"
    }
   ],
   "source": [
    "xt.shape"
   ]
  },
  {
   "cell_type": "code",
   "execution_count": 32,
   "metadata": {},
   "outputs": [
    {
     "data": {
      "text/plain": [
       "torch.Size([32])"
      ]
     },
     "execution_count": 32,
     "metadata": {},
     "output_type": "execute_result"
    }
   ],
   "source": [
    "mt.shape"
   ]
  },
  {
   "cell_type": "code",
   "execution_count": 39,
   "metadata": {},
   "outputs": [],
   "source": [
    "xm = torch.cat([xt, mt.unsqueeze(-1)], dim=-1)\n",
    "dxdt = model.func(t[-1], xm)"
   ]
  },
  {
   "cell_type": "code",
   "execution_count": 40,
   "metadata": {},
   "outputs": [
    {
     "data": {
      "text/plain": [
       "torch.Size([32, 10])"
      ]
     },
     "execution_count": 40,
     "metadata": {},
     "output_type": "execute_result"
    }
   ],
   "source": [
    "dxdt[...,:-1].shape"
   ]
  },
  {
   "cell_type": "code",
   "execution_count": 41,
   "metadata": {},
   "outputs": [
    {
     "data": {
      "text/plain": [
       "torch.Size([17, 32])"
      ]
     },
     "execution_count": 41,
     "metadata": {},
     "output_type": "execute_result"
    }
   ],
   "source": [
    "mtseq.shape"
   ]
  },
  {
   "cell_type": "code",
   "execution_count": 43,
   "metadata": {},
   "outputs": [
    {
     "data": {
      "text/plain": [
       "torch.Size([17, 32, 10])"
      ]
     },
     "execution_count": 43,
     "metadata": {},
     "output_type": "execute_result"
    }
   ],
   "source": [
    "xtseq.shape"
   ]
  },
  {
   "cell_type": "code",
   "execution_count": 45,
   "metadata": {},
   "outputs": [
    {
     "data": {
      "text/plain": [
       "torch.Size([17])"
      ]
     },
     "execution_count": 45,
     "metadata": {},
     "output_type": "execute_result"
    }
   ],
   "source": [
    "t.shape"
   ]
  },
  {
   "cell_type": "code",
   "execution_count": 46,
   "metadata": {},
   "outputs": [
    {
     "data": {
      "text/plain": [
       "tensor([0.0000, 0.0625, 0.1250])"
      ]
     },
     "execution_count": 46,
     "metadata": {},
     "output_type": "execute_result"
    }
   ],
   "source": [
    "t[[0,1,2],...]"
   ]
  },
  {
   "cell_type": "code",
   "execution_count": 47,
   "metadata": {},
   "outputs": [
    {
     "data": {
      "text/plain": [
       "torch.Size([32])"
      ]
     },
     "execution_count": 47,
     "metadata": {},
     "output_type": "execute_result"
    }
   ],
   "source": [
    "mt.shape"
   ]
  },
  {
   "cell_type": "code",
   "execution_count": 52,
   "metadata": {},
   "outputs": [
    {
     "data": {
      "text/plain": [
       "torch.Size([32, 11])"
      ]
     },
     "execution_count": 52,
     "metadata": {},
     "output_type": "execute_result"
    }
   ],
   "source": [
    "(dxdt * mt.unsqueeze(-1)).shape"
   ]
  },
  {
   "cell_type": "code",
   "execution_count": 56,
   "metadata": {},
   "outputs": [
    {
     "data": {
      "text/plain": [
       "torch.Size([17, 32, 11])"
      ]
     },
     "execution_count": 56,
     "metadata": {},
     "output_type": "execute_result"
    }
   ],
   "source": [
    "dxdts.shape"
   ]
  },
  {
   "cell_type": "code",
   "execution_count": 57,
   "metadata": {},
   "outputs": [
    {
     "data": {
      "text/plain": [
       "torch.Size([17, 32])"
      ]
     },
     "execution_count": 57,
     "metadata": {},
     "output_type": "execute_result"
    }
   ],
   "source": [
    "mtseq.shape"
   ]
  },
  {
   "cell_type": "code",
   "execution_count": 58,
   "metadata": {},
   "outputs": [
    {
     "data": {
      "text/plain": [
       "torch.Size([17, 32, 11])"
      ]
     },
     "execution_count": 58,
     "metadata": {},
     "output_type": "execute_result"
    }
   ],
   "source": [
    "(dxdts * mtseq.unsqueeze(-1)).shape"
   ]
  },
  {
   "cell_type": "code",
   "execution_count": 59,
   "metadata": {},
   "outputs": [
    {
     "data": {
      "text/plain": [
       "torch.Size([17, 32])"
      ]
     },
     "execution_count": 59,
     "metadata": {},
     "output_type": "execute_result"
    }
   ],
   "source": [
    "torch.nn.functional.softmax(mtseq, dim=-1).shape"
   ]
  },
  {
   "cell_type": "code",
   "execution_count": 60,
   "metadata": {},
   "outputs": [
    {
     "data": {
      "text/plain": [
       "32"
      ]
     },
     "execution_count": 60,
     "metadata": {},
     "output_type": "execute_result"
    }
   ],
   "source": [
    "mtseq.shape[-1]"
   ]
  },
  {
   "cell_type": "code",
   "execution_count": 61,
   "metadata": {},
   "outputs": [
    {
     "data": {
      "text/plain": [
       "torch.Size([32])"
      ]
     },
     "execution_count": 61,
     "metadata": {},
     "output_type": "execute_result"
    }
   ],
   "source": [
    "torch.nn.functional.softmax(mt, dim=-1).shape"
   ]
  },
  {
   "cell_type": "code",
   "execution_count": 62,
   "metadata": {},
   "outputs": [
    {
     "data": {
      "text/plain": [
       "32"
      ]
     },
     "execution_count": 62,
     "metadata": {},
     "output_type": "execute_result"
    }
   ],
   "source": [
    "mt.shape[-1]"
   ]
  },
  {
   "cell_type": "code",
   "execution_count": null,
   "metadata": {},
   "outputs": [],
   "source": []
  }
 ],
 "metadata": {
  "kernelspec": {
   "display_name": "Python 3",
   "language": "python",
   "name": "python3"
  },
  "language_info": {
   "codemirror_mode": {
    "name": "ipython",
    "version": 3
   },
   "file_extension": ".py",
   "mimetype": "text/x-python",
   "name": "python",
   "nbconvert_exporter": "python",
   "pygments_lexer": "ipython3",
   "version": "3.11.5"
  }
 },
 "nbformat": 4,
 "nbformat_minor": 2
}
