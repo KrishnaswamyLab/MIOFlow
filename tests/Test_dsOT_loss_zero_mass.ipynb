{
 "cells": [
  {
   "cell_type": "code",
   "execution_count": 1,
   "metadata": {},
   "outputs": [],
   "source": [
    "import numpy as np\n",
    "import torch\n",
    "import matplotlib.pylab as pl\n",
    "import ot\n",
    "import numpy as np\n",
    "import matplotlib.pylab as pl\n",
    "import ot\n",
    "import ot.plot\n",
    "from ot.datasets import make_1D_gauss as gauss\n",
    "from MIOFlow.losses import density_specified_OT_loss\n",
    "from MIOFlow.utils import generate_steps, set_seeds, config_criterion"
   ]
  },
  {
   "cell_type": "code",
   "execution_count": 2,
   "metadata": {},
   "outputs": [
    {
     "data": {
      "text/plain": [
       "tensor(4.7679, grad_fn=<SumBackward0>)"
      ]
     },
     "execution_count": 2,
     "metadata": {},
     "output_type": "execute_result"
    }
   ],
   "source": [
    "n1 = 20  # nb samples\n",
    "n2 = 20  # nb samples\n",
    "n12 = 20  # nb samples\n",
    "\n",
    "mu_s = np.array([-1, -1])\n",
    "cov_s = np.array([[1, 0], [0, 1]])\n",
    "\n",
    "mu_t = np.array([-1, -1])\n",
    "cov_t = np.array([[1, 0], [0, 1]])\n",
    "\n",
    "mu_s2 = np.array([4, 4])\n",
    "cov_s2 = np.array([[1, 0], [0, 1]])\n",
    "\n",
    "np.random.seed(0)\n",
    "xs = ot.datasets.make_2D_samples_gauss(n1, mu_s, cov_s)\n",
    "xt = ot.datasets.make_2D_samples_gauss(n2, mu_t, cov_t)\n",
    "xs2 = ot.datasets.make_2D_samples_gauss(n12, mu_s2, cov_s2)\n",
    "\n",
    "xs = np.concatenate((xs, xs2), axis=0)\n",
    "\n",
    "n_noise = 0\n",
    "\n",
    "xs = np.concatenate((xs, ((np.random.rand(n_noise, 2) - 4))), axis=0)\n",
    "xt = np.concatenate((xt, ((np.random.rand(n_noise, 2) + 6))), axis=0)\n",
    "\n",
    "xs = torch.tensor(xs, dtype=torch.float32, requires_grad=True)\n",
    "xt = torch.tensor(xt, dtype=torch.float32, requires_grad=False)\n",
    "\n",
    "n1 = n1 + n12 + n_noise\n",
    "n2 = n2 + n_noise\n",
    "\n",
    "a, b = np.ones((n1,)), np.ones((n2,))  # uniform distribution on samples\n",
    "\n",
    "a = torch.tensor(a, dtype=torch.float32, requires_grad=True)\n",
    "b = torch.tensor(b, dtype=torch.float32, requires_grad=True)\n",
    "\n",
    "# loss matrix\n",
    "M = torch.cdist(xs, xt)\n",
    "\n",
    "reg = 0.005\n",
    "reg_m_kl = 0.05\n",
    "reg_m_l2 = 5\n",
    "mass = 0.7\n",
    "\n",
    "criterion_name = 'density_specified_ot'\n",
    "loss_func = config_criterion(criterion_name, reg=0.2, detach_M_ot=False)\n",
    "\n",
    "loss = loss_func(xs, xt, a)\n",
    "loss"
   ]
  },
  {
   "cell_type": "code",
   "execution_count": 3,
   "metadata": {},
   "outputs": [
    {
     "data": {
      "text/plain": [
       "tensor(8.0670, grad_fn=<SumBackward0>)"
      ]
     },
     "execution_count": 3,
     "metadata": {},
     "output_type": "execute_result"
    }
   ],
   "source": [
    "n1 = 20  # nb samples\n",
    "n2 = 20  # nb samples\n",
    "n12 = 20  # nb samples\n",
    "\n",
    "mu_s = np.array([-1, -1])\n",
    "cov_s = np.array([[1, 0], [0, 1]])\n",
    "\n",
    "mu_t = np.array([-1, -1])\n",
    "cov_t = np.array([[1, 0], [0, 1]])\n",
    "\n",
    "mu_s2 = np.array([4, 4])\n",
    "cov_s2 = np.array([[1, 0], [0, 1]])\n",
    "\n",
    "np.random.seed(0)\n",
    "xs = ot.datasets.make_2D_samples_gauss(n1, mu_s, cov_s)\n",
    "xt = ot.datasets.make_2D_samples_gauss(n2, mu_t, cov_t)\n",
    "xs2 = ot.datasets.make_2D_samples_gauss(n12, mu_s2, cov_s2)\n",
    "\n",
    "xs = np.concatenate((xs, xs2), axis=0)\n",
    "\n",
    "n_noise = 0\n",
    "\n",
    "xs = np.concatenate((xs, ((np.random.rand(n_noise, 2) - 4))), axis=0)\n",
    "xt = np.concatenate((xt, ((np.random.rand(n_noise, 2) + 6))), axis=0)\n",
    "\n",
    "xs = torch.tensor(xs, dtype=torch.float32, requires_grad=True)\n",
    "xt = torch.tensor(xt, dtype=torch.float32, requires_grad=False)\n",
    "\n",
    "n1 = n1 + n12 + n_noise\n",
    "n2 = n2 + n_noise\n",
    "\n",
    "a, b = np.ones((n1,)), np.ones((n2,))  # uniform distribution on samples\n",
    "a[0:10] = -1.\n",
    "a = torch.tensor(a, dtype=torch.float32, requires_grad=True)\n",
    "b = torch.tensor(b, dtype=torch.float32, requires_grad=True)\n",
    "\n",
    "# loss matrix\n",
    "M = torch.cdist(xs, xt)\n",
    "\n",
    "reg = 0.005\n",
    "reg_m_kl = 0.05\n",
    "reg_m_l2 = 5\n",
    "mass = 0.7\n",
    "\n",
    "criterion_name = 'density_specified_ot'\n",
    "loss_func = config_criterion(criterion_name, reg=0.2, detach_M_ot=False)\n",
    "\n",
    "loss = loss_func(xs, xt, a)\n",
    "loss"
   ]
  },
  {
   "cell_type": "code",
   "execution_count": 4,
   "metadata": {},
   "outputs": [
    {
     "data": {
      "text/plain": [
       "tensor(8.0670, grad_fn=<SumBackward0>)"
      ]
     },
     "execution_count": 4,
     "metadata": {},
     "output_type": "execute_result"
    }
   ],
   "source": [
    "loss2 = ot.sinkhorn2(a/a.sum(), b/b.sum(), M, 0.2, verbose=False)\n",
    "loss2"
   ]
  },
  {
   "cell_type": "code",
   "execution_count": 5,
   "metadata": {},
   "outputs": [],
   "source": [
    "from MIOFlow.losses import hard_softmax"
   ]
  },
  {
   "cell_type": "code",
   "execution_count": 6,
   "metadata": {},
   "outputs": [
    {
     "data": {
      "text/plain": [
       "tensor([-0.0500, -0.0500, -0.0500, -0.0500, -0.0500, -0.0500, -0.0500, -0.0500,\n",
       "        -0.0500, -0.0500,  0.0500,  0.0500,  0.0500,  0.0500,  0.0500,  0.0500,\n",
       "         0.0500,  0.0500,  0.0500,  0.0500,  0.0500,  0.0500,  0.0500,  0.0500,\n",
       "         0.0500,  0.0500,  0.0500,  0.0500,  0.0500,  0.0500,  0.0500,  0.0500,\n",
       "         0.0500,  0.0500,  0.0500,  0.0500,  0.0500,  0.0500,  0.0500,  0.0500],\n",
       "       grad_fn=<DivBackward0>)"
      ]
     },
     "execution_count": 6,
     "metadata": {},
     "output_type": "execute_result"
    }
   ],
   "source": [
    "hard_softmax(a, dim=-1, threshold=None)"
   ]
  },
  {
   "cell_type": "code",
   "execution_count": 7,
   "metadata": {},
   "outputs": [
    {
     "data": {
      "text/plain": [
       "tensor([-0.0500, -0.0500, -0.0500, -0.0500, -0.0500, -0.0500, -0.0500, -0.0500,\n",
       "        -0.0500, -0.0500,  0.0500,  0.0500,  0.0500,  0.0500,  0.0500,  0.0500,\n",
       "         0.0500,  0.0500,  0.0500,  0.0500,  0.0500,  0.0500,  0.0500,  0.0500,\n",
       "         0.0500,  0.0500,  0.0500,  0.0500,  0.0500,  0.0500,  0.0500,  0.0500,\n",
       "         0.0500,  0.0500,  0.0500,  0.0500,  0.0500,  0.0500,  0.0500,  0.0500],\n",
       "       grad_fn=<DivBackward0>)"
      ]
     },
     "execution_count": 7,
     "metadata": {},
     "output_type": "execute_result"
    }
   ],
   "source": [
    "a / a.sum()"
   ]
  },
  {
   "cell_type": "code",
   "execution_count": null,
   "metadata": {},
   "outputs": [],
   "source": []
  }
 ],
 "metadata": {
  "kernelspec": {
   "display_name": "Python 3",
   "language": "python",
   "name": "python3"
  },
  "language_info": {
   "codemirror_mode": {
    "name": "ipython",
    "version": 3
   },
   "file_extension": ".py",
   "mimetype": "text/x-python",
   "name": "python",
   "nbconvert_exporter": "python",
   "pygments_lexer": "ipython3",
   "version": "3.11.5"
  }
 },
 "nbformat": 4,
 "nbformat_minor": 2
}
