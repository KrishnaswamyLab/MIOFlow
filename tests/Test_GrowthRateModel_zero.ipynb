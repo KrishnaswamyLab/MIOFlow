{
 "cells": [
  {
   "cell_type": "code",
   "execution_count": 1,
   "metadata": {},
   "outputs": [],
   "source": [
    "from MIOFlow.models import make_model\n",
    "from MIOFlow.losses import MMD_loss, OT_loss, Density_loss, Local_density_loss, density_specified_OT_loss, EnergyLoss, EnergyLossGrowthRate, EnergyLossSeq, EnergyLossGrowthRateSeq\n",
    "from MIOFlow.utils import generate_steps, set_seeds, config_criterion\n",
    "import torch"
   ]
  },
  {
   "cell_type": "code",
   "execution_count": 2,
   "metadata": {},
   "outputs": [],
   "source": [
    "batch_size = 5\n",
    "feature_dim = 3\n",
    "output_dim = 3\n",
    "\n",
    "x = torch.randn(batch_size, feature_dim)\n",
    "m0 = torch.ones(batch_size, 1)\n",
    "m0[[0,3],:] = 0.\n",
    "xm = torch.cat([x, m0], dim=1)\n",
    "t = torch.linspace(0, 1, 7)\n",
    "\n",
    "model = make_model(feature_dims=feature_dim, output_dims=output_dim, which='ode_growth_rate')\n",
    "energy_weighted = True\n",
    "energy_detach_m = True\n",
    "energy_loss_growth_rate = EnergyLossGrowthRate(weighted=energy_weighted, detach_m=energy_detach_m)\n",
    "energy_loss_growth_rate_seq = EnergyLossGrowthRateSeq(weighted=energy_weighted, detach_m=energy_detach_m)\n",
    "\n",
    "criterion_name = 'density_specified_ot'\n",
    "criterion = config_criterion(criterion_name)\n",
    "\n",
    "hinge_value = 0.01\n",
    "density_fn = Density_loss(hinge_value)"
   ]
  },
  {
   "cell_type": "code",
   "execution_count": 3,
   "metadata": {},
   "outputs": [],
   "source": [
    "dxmdt = model.func(t[-1], xm)"
   ]
  },
  {
   "cell_type": "code",
   "execution_count": 4,
   "metadata": {},
   "outputs": [],
   "source": [
    "xt, mt = model(x, t)"
   ]
  },
  {
   "cell_type": "code",
   "execution_count": 5,
   "metadata": {},
   "outputs": [
    {
     "data": {
      "text/plain": [
       "tensor([[-0.4248,  0.2344, -0.2809],\n",
       "        [ 0.8790,  0.2571, -1.0647],\n",
       "        [-0.7393,  0.2159, -0.0567],\n",
       "        [-1.0216, -0.1463,  0.4386],\n",
       "        [-0.2821,  0.5557,  0.0513]], grad_fn=<SliceBackward0>)"
      ]
     },
     "execution_count": 5,
     "metadata": {},
     "output_type": "execute_result"
    }
   ],
   "source": [
    "xt"
   ]
  },
  {
   "cell_type": "code",
   "execution_count": 6,
   "metadata": {},
   "outputs": [],
   "source": [
    "mt = mt.detach()\n",
    "# mt[[0,3]] = 0.\n",
    "mt = torch.zeros_like(mt)\n",
    "mt.requires_grad = True"
   ]
  },
  {
   "cell_type": "code",
   "execution_count": 7,
   "metadata": {},
   "outputs": [],
   "source": [
    "xtseq, mtseq = model(x, t, return_whole_sequence=True)"
   ]
  },
  {
   "cell_type": "code",
   "execution_count": 8,
   "metadata": {},
   "outputs": [
    {
     "name": "stdout",
     "output_type": "stream",
     "text": [
      "OT loss: 0.1780138611793518, Density loss: 0.41248807311058044, Energy loss: 0.03557818382978439, Energy loss growth rate: 0.0, Mean loss: 1.0, Mean loss 2: 1.0\n"
     ]
    }
   ],
   "source": [
    "otl = criterion(xt, x, mt)\n",
    "dl = density_fn(xt, x, pre_softmax_weights=mt.detach(), top_k=2)\n",
    "eloss, emloss = energy_loss_growth_rate(model, xt, mt.detach(), t[-1])\n",
    "ml = (torch.square(mt.mean(axis=-1) - model.m_init)).mean() \n",
    "ml2 = (torch.square(mt - model.m_init)).mean()\n",
    "loss = otl + dl + eloss + emloss + ml + ml2\n",
    "print(f\"OT loss: {otl}, Density loss: {dl}, Energy loss: {eloss}, Energy loss growth rate: {emloss}, Mean loss: {ml}, Mean loss 2: {ml2}\")"
   ]
  },
  {
   "cell_type": "code",
   "execution_count": 9,
   "metadata": {},
   "outputs": [],
   "source": [
    "loss.backward()"
   ]
  },
  {
   "cell_type": "code",
   "execution_count": 10,
   "metadata": {},
   "outputs": [
    {
     "data": {
      "text/plain": [
       "tensor([-0.8000, -0.8000, -0.8000, -0.8000, -0.8000])"
      ]
     },
     "execution_count": 10,
     "metadata": {},
     "output_type": "execute_result"
    }
   ],
   "source": [
    "mt.grad"
   ]
  },
  {
   "cell_type": "code",
   "execution_count": 11,
   "metadata": {},
   "outputs": [
    {
     "name": "stdout",
     "output_type": "stream",
     "text": [
      "Gradient for func.seq.0.weight: 0.14733898639678955\n",
      "Gradient for func.seq.0.bias: 0.14599904417991638\n",
      "Gradient for func.seq.2.weight: 0.24677564203739166\n",
      "Gradient for func.seq.2.bias: 0.4118116497993469\n"
     ]
    }
   ],
   "source": [
    "for name, param in model.named_parameters():\n",
    "    if param.requires_grad:\n",
    "        print(f\"Gradient for {name}: {param.grad.max()}\")"
   ]
  },
  {
   "cell_type": "code",
   "execution_count": 12,
   "metadata": {},
   "outputs": [
    {
     "data": {
      "text/plain": [
       "tensor([[-0.3208,  0.2013, -0.1972],\n",
       "        [ 1.0577,  0.2151, -1.0301],\n",
       "        [-0.6896,  0.1817,  0.0713],\n",
       "        [-1.0455, -0.2010,  0.6102],\n",
       "        [-0.1015,  0.5418,  0.0678]])"
      ]
     },
     "execution_count": 12,
     "metadata": {},
     "output_type": "execute_result"
    }
   ],
   "source": [
    "x"
   ]
  },
  {
   "cell_type": "code",
   "execution_count": 13,
   "metadata": {},
   "outputs": [
    {
     "data": {
      "text/plain": [
       "tensor([[0., 0., 0., 0., 0.],\n",
       "        [0., 0., 0., 0., 0.],\n",
       "        [0., 0., 0., 0., 0.],\n",
       "        [0., 0., 0., 0., 0.],\n",
       "        [0., 0., 0., 0., 0.]], grad_fn=<MulBackward0>)"
      ]
     },
     "execution_count": 13,
     "metadata": {},
     "output_type": "execute_result"
    }
   ],
   "source": [
    "torch.cdist(xt, x) * mt"
   ]
  },
  {
   "cell_type": "code",
   "execution_count": 14,
   "metadata": {},
   "outputs": [
    {
     "data": {
      "text/plain": [
       "torch.Size([5])"
      ]
     },
     "execution_count": 14,
     "metadata": {},
     "output_type": "execute_result"
    }
   ],
   "source": [
    "mt.shape"
   ]
  },
  {
   "cell_type": "code",
   "execution_count": 15,
   "metadata": {},
   "outputs": [
    {
     "data": {
      "text/plain": [
       "torch.Size([1, 5])"
      ]
     },
     "execution_count": 15,
     "metadata": {},
     "output_type": "execute_result"
    }
   ],
   "source": [
    "mt.unsqueeze(0).shape"
   ]
  },
  {
   "cell_type": "code",
   "execution_count": 16,
   "metadata": {},
   "outputs": [
    {
     "data": {
      "text/plain": [
       "tensor([[0., 0., 0., 0., 0.],\n",
       "        [0., 0., 0., 0., 0.],\n",
       "        [0., 0., 0., 0., 0.]], grad_fn=<MulBackward0>)"
      ]
     },
     "execution_count": 16,
     "metadata": {},
     "output_type": "execute_result"
    }
   ],
   "source": [
    "torch.cdist(xt[:3,:], x) * mt[:3].unsqueeze(-1)"
   ]
  },
  {
   "cell_type": "code",
   "execution_count": 18,
   "metadata": {},
   "outputs": [
    {
     "data": {
      "text/plain": [
       "tensor(0., grad_fn=<MeanBackward1>)"
      ]
     },
     "execution_count": 18,
     "metadata": {},
     "output_type": "execute_result"
    }
   ],
   "source": [
    "mt.mean(axis=-1)"
   ]
  },
  {
   "cell_type": "code",
   "execution_count": 19,
   "metadata": {},
   "outputs": [
    {
     "data": {
      "text/plain": [
       "torch.Size([7, 5])"
      ]
     },
     "execution_count": 19,
     "metadata": {},
     "output_type": "execute_result"
    }
   ],
   "source": [
    "mtseq.shape"
   ]
  },
  {
   "cell_type": "code",
   "execution_count": 26,
   "metadata": {},
   "outputs": [],
   "source": [
    "threshold = mtseq.mean(dim=-1, keepdim=True)"
   ]
  },
  {
   "cell_type": "code",
   "execution_count": 28,
   "metadata": {},
   "outputs": [
    {
     "data": {
      "text/plain": [
       "tensor([[0.0000, 0.0000, 0.0000, 0.0000, 0.0000],\n",
       "        [1.0003, 1.0025, 0.0000, 0.0000, 0.0000],\n",
       "        [1.0018, 1.0044, 0.0000, 0.0000, 0.0000],\n",
       "        [1.0033, 1.0061, 0.0000, 0.0000, 0.0000],\n",
       "        [1.0045, 1.0073, 0.0000, 0.0000, 0.0000],\n",
       "        [1.0053, 1.0083, 0.9915, 0.0000, 0.9914],\n",
       "        [1.0062, 1.0098, 0.9911, 0.0000, 0.9912]], grad_fn=<WhereBackward0>)"
      ]
     },
     "execution_count": 28,
     "metadata": {},
     "output_type": "execute_result"
    }
   ],
   "source": [
    "torch.where(mtseq <= threshold, torch.tensor(0., dtype=mtseq.dtype, device=mtseq.device), mtseq)"
   ]
  },
  {
   "cell_type": "code",
   "execution_count": 32,
   "metadata": {},
   "outputs": [
    {
     "data": {
      "text/plain": [
       "tensor([1.0003, 1.0025, 1.0018, 1.0044, 1.0033, 1.0061, 1.0045, 1.0073, 1.0053,\n",
       "        1.0083, 0.9915, 0.9914, 1.0062, 1.0098, 0.9911, 0.9912],\n",
       "       grad_fn=<IndexBackward0>)"
      ]
     },
     "execution_count": 32,
     "metadata": {},
     "output_type": "execute_result"
    }
   ],
   "source": [
    "mtseq[mtseq > threshold]"
   ]
  },
  {
   "cell_type": "code",
   "execution_count": 33,
   "metadata": {},
   "outputs": [
    {
     "data": {
      "text/plain": [
       "tensor([[1.0000, 1.0000, 1.0000, 1.0000, 1.0000],\n",
       "        [1.0003, 1.0025, 0.9970, 0.9904, 0.9964],\n",
       "        [1.0018, 1.0044, 0.9946, 0.9818, 0.9944],\n",
       "        [1.0033, 1.0061, 0.9929, 0.9738, 0.9931],\n",
       "        [1.0045, 1.0073, 0.9920, 0.9664, 0.9921],\n",
       "        [1.0053, 1.0083, 0.9915, 0.9594, 0.9914],\n",
       "        [1.0062, 1.0098, 0.9911, 0.9529, 0.9912]], grad_fn=<ReluBackward0>)"
      ]
     },
     "execution_count": 33,
     "metadata": {},
     "output_type": "execute_result"
    }
   ],
   "source": [
    "mtseq"
   ]
  },
  {
   "cell_type": "code",
   "execution_count": 34,
   "metadata": {},
   "outputs": [
    {
     "data": {
      "text/plain": [
       "tensor([[1.0000],\n",
       "        [0.9973],\n",
       "        [0.9954],\n",
       "        [0.9938],\n",
       "        [0.9924],\n",
       "        [0.9912],\n",
       "        [0.9902]], grad_fn=<MeanBackward1>)"
      ]
     },
     "execution_count": 34,
     "metadata": {},
     "output_type": "execute_result"
    }
   ],
   "source": [
    "threshold"
   ]
  },
  {
   "cell_type": "code",
   "execution_count": 36,
   "metadata": {},
   "outputs": [
    {
     "data": {
      "text/plain": [
       "tensor([[False, False, False, False, False],\n",
       "        [ True,  True, False, False, False],\n",
       "        [ True,  True, False, False, False],\n",
       "        [ True,  True, False, False, False],\n",
       "        [ True,  True, False, False, False],\n",
       "        [ True,  True,  True, False,  True],\n",
       "        [ True,  True,  True, False,  True]])"
      ]
     },
     "execution_count": 36,
     "metadata": {},
     "output_type": "execute_result"
    }
   ],
   "source": [
    "mtseq > threshold"
   ]
  },
  {
   "cell_type": "code",
   "execution_count": 37,
   "metadata": {},
   "outputs": [
    {
     "data": {
      "text/plain": [
       "torch.Size([5, 3])"
      ]
     },
     "execution_count": 37,
     "metadata": {},
     "output_type": "execute_result"
    }
   ],
   "source": [
    "xt.shape"
   ]
  },
  {
   "cell_type": "code",
   "execution_count": 38,
   "metadata": {},
   "outputs": [
    {
     "data": {
      "text/plain": [
       "torch.Size([5])"
      ]
     },
     "execution_count": 38,
     "metadata": {},
     "output_type": "execute_result"
    }
   ],
   "source": [
    "mt.shape"
   ]
  },
  {
   "cell_type": "code",
   "execution_count": 51,
   "metadata": {},
   "outputs": [],
   "source": [
    "mt1 = torch.randn_like(mt)\n",
    "mask = mt1 > (-1 * mt1.mean(dim=-1, keepdim=True))"
   ]
  },
  {
   "cell_type": "code",
   "execution_count": 53,
   "metadata": {},
   "outputs": [
    {
     "data": {
      "text/plain": [
       "tensor([0.2280, 1.1005])"
      ]
     },
     "execution_count": 53,
     "metadata": {},
     "output_type": "execute_result"
    }
   ],
   "source": [
    "mt1[mask]"
   ]
  },
  {
   "cell_type": "code",
   "execution_count": 55,
   "metadata": {},
   "outputs": [
    {
     "data": {
      "text/plain": [
       "tensor([[ 0.8790,  0.2571, -1.0647],\n",
       "        [-0.2821,  0.5557,  0.0513]], grad_fn=<IndexBackward0>)"
      ]
     },
     "execution_count": 55,
     "metadata": {},
     "output_type": "execute_result"
    }
   ],
   "source": [
    "xt[mask]"
   ]
  },
  {
   "cell_type": "code",
   "execution_count": 59,
   "metadata": {},
   "outputs": [],
   "source": [
    "tuple = (xt, xt)"
   ]
  },
  {
   "cell_type": "code",
   "execution_count": 60,
   "metadata": {},
   "outputs": [],
   "source": [
    "fun = lambda a,b,c: a+b+c"
   ]
  },
  {
   "cell_type": "code",
   "execution_count": 61,
   "metadata": {},
   "outputs": [
    {
     "data": {
      "text/plain": [
       "tensor([[ 0.1504,  1.4688,  0.4382],\n",
       "        [ 2.7580,  1.5142, -1.1294],\n",
       "        [-0.4785,  1.4318,  0.8866],\n",
       "        [-1.0432,  0.7075,  1.8772],\n",
       "        [ 0.4359,  2.1113,  1.1025]], grad_fn=<AddBackward0>)"
      ]
     },
     "execution_count": 61,
     "metadata": {},
     "output_type": "execute_result"
    }
   ],
   "source": [
    "fun(*tuple, 1)"
   ]
  },
  {
   "cell_type": "code",
   "execution_count": null,
   "metadata": {},
   "outputs": [],
   "source": []
  }
 ],
 "metadata": {
  "kernelspec": {
   "display_name": "Python 3",
   "language": "python",
   "name": "python3"
  },
  "language_info": {
   "codemirror_mode": {
    "name": "ipython",
    "version": 3
   },
   "file_extension": ".py",
   "mimetype": "text/x-python",
   "name": "python",
   "nbconvert_exporter": "python",
   "pygments_lexer": "ipython3",
   "version": "3.11.5"
  }
 },
 "nbformat": 4,
 "nbformat_minor": 2
}
